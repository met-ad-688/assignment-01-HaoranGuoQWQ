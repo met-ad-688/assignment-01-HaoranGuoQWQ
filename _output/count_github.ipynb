{
 "cells": [
  {
   "cell_type": "code",
   "execution_count": 2,
   "id": "11a0ec93",
   "metadata": {},
   "outputs": [],
   "source": [
    "#import pandas as pd\n",
    "\n",
    "#df1 = pd.read_csv(\"questions.csv\")\n",
    "#df2 = pd.read_csv(\"question_tags.csv\")"
   ]
  },
  {
   "cell_type": "code",
   "execution_count": null,
   "id": "3369cb3e",
   "metadata": {},
   "outputs": [],
   "source": [
    "#df1_stacked = df1.stack()"
   ]
  },
  {
   "cell_type": "code",
   "execution_count": 8,
   "id": "e949a2da",
   "metadata": {},
   "outputs": [],
   "source": [
    "#df1_small = df1.head(50000)\n",
    "#df1_small.to_csv('file1.csv')"
   ]
  },
  {
   "cell_type": "code",
   "execution_count": 9,
   "id": "13181cea",
   "metadata": {},
   "outputs": [],
   "source": [
    "#df2_small = df2.head(50000)\n",
    "#df2_small.to_csv('file2.csv')"
   ]
  },
  {
   "cell_type": "code",
   "execution_count": 4,
   "id": "497417cc",
   "metadata": {},
   "outputs": [],
   "source": [
    "#df1_stacked = df1_small.stack()"
   ]
  },
  {
   "cell_type": "code",
   "execution_count": 10,
   "id": "4a86b1d1",
   "metadata": {},
   "outputs": [
    {
     "name": "stdout",
     "output_type": "stream",
     "text": [
      "Total lines containing 'GitHub': 3\n"
     ]
    }
   ],
   "source": [
    "# Load the CSV files\n",
    "#files = [\"file1.csv\", \"file2.csv\"]  # Replace with actual file names\n",
    "#count = 0\n",
    "\n",
    "#for file in files:\n",
    "#    df = pd.read_csv(file)\n",
    "#    count += df.apply(lambda row: row.astype(str).str.contains(\"GitHub\", case=False).any(), axis=1).sum()\n",
    "\n",
    "#print(f\"Total lines containing 'GitHub': {count}\")"
   ]
  },
  {
   "cell_type": "code",
   "execution_count": null,
   "id": "ce38db58",
   "metadata": {},
   "outputs": [],
   "source": [
    "#Above are my test and that works, so the code here should be\n",
    "import pandas as pd\n",
    "files = [\"questions.csv\", \"question_tags.csv\"]  # Replace with actual file names\n",
    "count = 0\n",
    "\n",
    "for file in files:\n",
    "    df = pd.read_csv(file)\n",
    "    count += df.apply(lambda row: row.astype(str).str.contains(\"GitHub\", case=False).any(), axis=1).sum()\n",
    "\n",
    "print(f\"Total lines containing 'GitHub': {count}\")"
   ]
  }
 ],
 "metadata": {
  "kernelspec": {
   "display_name": "Python 3 (ipykernel)",
   "language": "python",
   "name": "python3"
  },
  "language_info": {
   "codemirror_mode": {
    "name": "ipython",
    "version": 3
   },
   "file_extension": ".py",
   "mimetype": "text/x-python",
   "name": "python",
   "nbconvert_exporter": "python",
   "pygments_lexer": "ipython3",
   "version": "3.12.3"
  }
 },
 "nbformat": 4,
 "nbformat_minor": 5
}
